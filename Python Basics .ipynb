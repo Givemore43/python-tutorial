{
 "cells": [
  {
   "cell_type": "code",
   "execution_count": 3,
   "metadata": {},
   "outputs": [
    {
     "name": "stdout",
     "output_type": "stream",
     "text": [
      "Welcome guys to my Python Basics Course\n",
      "My name is Givemore Maguju and I am your instructor in this course.\n"
     ]
    }
   ],
   "source": [
    "message = \"Welcome guys to my Python Basics Course\"\n",
    "name = \"Givemore Maguju\"\n",
    "role = \"I am your instructor in this course.\"\n",
    "print(message)\n",
    "print(\"My name is \" + name + \" and \" + role)"
   ]
  },
  {
   "cell_type": "markdown",
   "metadata": {},
   "source": [
    "## Let's look at strings\n",
    "Concatenation: Adding a string to a string"
   ]
  },
  {
   "cell_type": "code",
   "execution_count": 5,
   "metadata": {},
   "outputs": [
    {
     "name": "stdout",
     "output_type": "stream",
     "text": [
      "My name is Givemore and I am 27 years old.\n"
     ]
    }
   ],
   "source": [
    "name = 'Givemore'\n",
    "age = 27\n",
    "print(\"My name is \" + name + \" and I am \" + str(age) + \" years old.\")"
   ]
  },
  {
   "cell_type": "markdown",
   "metadata": {},
   "source": [
    "Arguments by position"
   ]
  },
  {
   "cell_type": "code",
   "execution_count": 8,
   "metadata": {},
   "outputs": [
    {
     "name": "stdout",
     "output_type": "stream",
     "text": [
      "My name is Givemore and I am 27 years old.\n"
     ]
    }
   ],
   "source": [
    "print('My name is {name} and I am {age} years old.'.format(name=name, age=age))"
   ]
  },
  {
   "cell_type": "markdown",
   "metadata": {},
   "source": [
    " F-strings (Python version 3.6+)"
   ]
  },
  {
   "cell_type": "code",
   "execution_count": 9,
   "metadata": {},
   "outputs": [
    {
     "name": "stdout",
     "output_type": "stream",
     "text": [
      "Hello, my name is Givemore and I am 27 years old.\n"
     ]
    }
   ],
   "source": [
    "print(f'Hello, my name is {name} and I am {age} years old.')"
   ]
  },
  {
   "cell_type": "markdown",
   "metadata": {},
   "source": [
    "String Methods"
   ]
  },
  {
   "cell_type": "code",
   "execution_count": 20,
   "metadata": {},
   "outputs": [
    {
     "name": "stdout",
     "output_type": "stream",
     "text": [
      "Givemore maguju\n",
      "GIVEMORE MAGUJU\n",
      "givemore maguju\n",
      "15\n"
     ]
    }
   ],
   "source": [
    "name = 'givemore maguju'\n",
    "print(name.capitalize()) #capitalize function\n",
    "print(name.upper()) #Changes text to upper-case\n",
    "print(name.lower())#Changes text to lower-case\n",
    "print(len(name))#Checks the length of the string"
   ]
  },
  {
   "cell_type": "code",
   "execution_count": 21,
   "metadata": {},
   "outputs": [
    {
     "name": "stdout",
     "output_type": "stream",
     "text": [
      "['hardwork', 'commitment', 'discipline', 'self-drive']\n"
     ]
    }
   ],
   "source": [
    "success = ['hardwork', 'commitment', 'discipline', 'self-drive']\n",
    "print(success)"
   ]
  },
  {
   "cell_type": "code",
   "execution_count": null,
   "metadata": {},
   "outputs": [],
   "source": []
  }
 ],
 "metadata": {
  "kernelspec": {
   "display_name": "Python 3",
   "language": "python",
   "name": "python3"
  },
  "language_info": {
   "codemirror_mode": {
    "name": "ipython",
    "version": 3
   },
   "file_extension": ".py",
   "mimetype": "text/x-python",
   "name": "python",
   "nbconvert_exporter": "python",
   "pygments_lexer": "ipython3",
   "version": "3.7.3"
  }
 },
 "nbformat": 4,
 "nbformat_minor": 2
}

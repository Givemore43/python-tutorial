{
 "cells": [
  {
   "cell_type": "markdown",
   "metadata": {},
   "source": [
    "# Welcome to my Python Programming Course for Beginners"
   ]
  },
  {
   "cell_type": "markdown",
   "metadata": {},
   "source": [
    "## In this course, we will cover the following areas;\n",
    "Numbers, Variables, Lists, Strings, Conditional Statements, Functions, Object Oriented Programming"
   ]
  },
  {
   "cell_type": "code",
   "execution_count": 1,
   "metadata": {},
   "outputs": [
    {
     "name": "stdout",
     "output_type": "stream",
     "text": [
      "Hi, there World!\n"
     ]
    }
   ],
   "source": [
    "print(\"Hi, there World!\")"
   ]
  },
  {
   "cell_type": "code",
   "execution_count": 2,
   "metadata": {},
   "outputs": [
    {
     "name": "stdout",
     "output_type": "stream",
     "text": [
      "Welcome to the Python Course for beginners\n"
     ]
    }
   ],
   "source": [
    "message = \"Welcome to the Python Course for beginners\"\n",
    "print(message)"
   ]
  },
  {
   "cell_type": "code",
   "execution_count": 15,
   "metadata": {},
   "outputs": [],
   "source": [
    "instr_name = \"My name is Givemore Maguju.\"\n",
    "qual = \"Data scientist, Graphic designer, Finance consultant.\"\n",
    "race = \"African.\"\n",
    "contact = +27651649637\n",
    "email = \"gmaguju2000@gmail.com\""
   ]
  },
  {
   "cell_type": "code",
   "execution_count": 19,
   "metadata": {},
   "outputs": [
    {
     "name": "stdout",
     "output_type": "stream",
     "text": [
      "My name is Givemore Maguju.\n",
      "I am a Data scientist, Graphic designer, Finance consultant. I am an African\n",
      "Here is my 27651649637\n",
      "Email me on gmaguju2000@gmail.com\n"
     ]
    }
   ],
   "source": [
    "print(instr_name)\n",
    "print(\"I am a \" + qual + \" I am an \" + race)\n",
    "print(\"Here is my \" + str(contact))\n",
    "print(\"Email me on \" + email)"
   ]
  },
  {
   "cell_type": "code",
   "execution_count": 20,
   "metadata": {},
   "outputs": [
    {
     "name": "stdout",
     "output_type": "stream",
     "text": [
      "I am super excited that you joined this free course. Please follow along.\n"
     ]
    }
   ],
   "source": [
    "happy = \"I am super excited that you joined this free course. Please follow along.\"\n",
    "print(happy)"
   ]
  },
  {
   "cell_type": "code",
   "execution_count": null,
   "metadata": {},
   "outputs": [],
   "source": []
  }
 ],
 "metadata": {
  "kernelspec": {
   "display_name": "Python 3",
   "language": "python",
   "name": "python3"
  },
  "language_info": {
   "codemirror_mode": {
    "name": "ipython",
    "version": 3
   },
   "file_extension": ".py",
   "mimetype": "text/x-python",
   "name": "python",
   "nbconvert_exporter": "python",
   "pygments_lexer": "ipython3",
   "version": "3.7.3"
  }
 },
 "nbformat": 4,
 "nbformat_minor": 2
}

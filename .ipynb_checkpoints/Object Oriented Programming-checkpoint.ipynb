{
 "cells": [
  {
   "cell_type": "markdown",
   "metadata": {},
   "source": [
    "## Object Oriented Programming in Python\n",
    "*Python Fuctions*, *Classes*, *Parameters* & *arguments*"
   ]
  },
  {
   "cell_type": "code",
   "execution_count": 3,
   "metadata": {},
   "outputs": [
    {
     "name": "stdout",
     "output_type": "stream",
     "text": [
      "Hello there! My name is: Givemore Maguju\n",
      "I welcome you to my tutorial on Object Oriented Programming in Python.\n"
     ]
    }
   ],
   "source": [
    "welcome_message = \"I welcome you to my tutorial on Object Oriented Programming in Python.\"\n",
    "name = input('Hello there! My name is: ')\n",
    "print(welcome_message)"
   ]
  },
  {
   "cell_type": "markdown",
   "metadata": {},
   "source": [
    "## User Profile Class\n",
    "*__init__ is the constructor where you specify the properties of your class. Inside the constructor function are parameters such as username, email etc. Basically, you want the user to create a profile  when logged onto your platform. Then, the get_details will fetch user details when called. Finally, enter the arguments to satisfy the specified parameters.*"
   ]
  },
  {
   "cell_type": "code",
   "execution_count": 18,
   "metadata": {},
   "outputs": [
    {
     "name": "stdout",
     "output_type": "stream",
     "text": [
      "My name is Givemore gmaguju2000@gmail.com 27 years old Male 00263774816207 Zimbabwe I love coding in Python\n"
     ]
    }
   ],
   "source": [
    "class UserProfile():\n",
    "    def __init__(self, username, email, age, gender, phone, country, bio): \n",
    "        self.username = username\n",
    "        self.email = email\n",
    "        self.age = age\n",
    "        self.gender = gender\n",
    "        self.phone = phone\n",
    "        self.country = country\n",
    "        self.bio = bio\n",
    "        \n",
    "        \n",
    "    def get_details(self):\n",
    "        print(self.username + \" \" + self.email + \" \" + str(self.age) + \" \" + self.gender + \" \" + str(self.phone) + \" \" + \n",
    "              self.country + \" \" + self.bio)\n",
    "        \n",
    "details = UserProfile('My name is Givemore', 'gmaguju2000@gmail.com', '27 years old', 'Male', '00263774816207', 'Zimbabwe',\n",
    "                      'I love coding in Python')\n",
    "details.get_details()"
   ]
  },
  {
   "cell_type": "markdown",
   "metadata": {},
   "source": [
    "## Book Class Example"
   ]
  },
  {
   "cell_type": "code",
   "execution_count": 24,
   "metadata": {},
   "outputs": [
    {
     "name": "stdout",
     "output_type": "stream",
     "text": [
      "Python Programming for absolute beginners By Givemore Maguju Programming 00612995624kl\n"
     ]
    }
   ],
   "source": [
    "class Book():\n",
    "    def __init__(self, title, author, genre, isbn): \n",
    "        self.title = title\n",
    "        self.author = author\n",
    "        self.genre = genre\n",
    "        self.isbn = isbn\n",
    "        \n",
    "        \n",
    "    def get_book_detail(self):\n",
    "        print(self.title + \" \" + self.author + \" \" + self.genre + \" \" + self.isbn)\n",
    "        \n",
    "book = Book('Python Programming for absolute beginners', 'By Givemore Maguju', 'Programming', '00612995624kl')\n",
    "book.get_book_detail()\n"
   ]
  },
  {
   "cell_type": "code",
   "execution_count": null,
   "metadata": {},
   "outputs": [],
   "source": []
  }
 ],
 "metadata": {
  "kernelspec": {
   "display_name": "Python 3",
   "language": "python",
   "name": "python3"
  },
  "language_info": {
   "codemirror_mode": {
    "name": "ipython",
    "version": 3
   },
   "file_extension": ".py",
   "mimetype": "text/x-python",
   "name": "python",
   "nbconvert_exporter": "python",
   "pygments_lexer": "ipython3",
   "version": "3.7.3"
  }
 },
 "nbformat": 4,
 "nbformat_minor": 2
}

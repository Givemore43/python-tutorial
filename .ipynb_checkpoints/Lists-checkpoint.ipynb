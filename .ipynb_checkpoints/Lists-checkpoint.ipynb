{
 "cells": [
  {
   "cell_type": "markdown",
   "metadata": {},
   "source": [
    "# Lists in Python"
   ]
  },
  {
   "cell_type": "markdown",
   "metadata": {},
   "source": [
    "List contain multiple elements and are denoted by []"
   ]
  },
  {
   "cell_type": "code",
   "execution_count": 1,
   "metadata": {},
   "outputs": [
    {
     "name": "stdout",
     "output_type": "stream",
     "text": [
      "['Tinashe', 'Kavayi', 'Honest', 'Courage', 'Lhoyd']\n"
     ]
    }
   ],
   "source": [
    "my_friends = ['Tinashe', 'Kavayi', 'Honest', 'Courage','Lhoyd']\n",
    "print(my_friends)"
   ]
  },
  {
   "cell_type": "code",
   "execution_count": 2,
   "metadata": {},
   "outputs": [
    {
     "name": "stdout",
     "output_type": "stream",
     "text": [
      "Let's access elements of this list\n"
     ]
    }
   ],
   "source": [
    "now = \"Let's access elements of this list\"\n",
    "print(now)"
   ]
  },
  {
   "cell_type": "code",
   "execution_count": 3,
   "metadata": {},
   "outputs": [
    {
     "name": "stdout",
     "output_type": "stream",
     "text": [
      "Tinashe\n",
      "Courage\n",
      "Tinashe & Courage\n"
     ]
    }
   ],
   "source": [
    "print(my_friends[0])#accessing the first element\n",
    "print(my_friends[3])\n",
    "print(my_friends[0] + \" & \" + my_friends[3])"
   ]
  },
  {
   "cell_type": "code",
   "execution_count": 4,
   "metadata": {},
   "outputs": [
    {
     "name": "stdout",
     "output_type": "stream",
     "text": [
      "Now, let's add a friend to the list using the append() function.\n"
     ]
    }
   ],
   "source": [
    "now_1 = \"Now, let's add a friend to the list using the append() function.\"\n",
    "print(now_1)"
   ]
  },
  {
   "cell_type": "code",
   "execution_count": 5,
   "metadata": {},
   "outputs": [
    {
     "name": "stdout",
     "output_type": "stream",
     "text": [
      "['Tinashe', 'Kavayi', 'Honest', 'Courage', 'Lhoyd', 'Max']\n"
     ]
    }
   ],
   "source": [
    "my_friends.append('Max')\n",
    "print(my_friends)"
   ]
  },
  {
   "cell_type": "code",
   "execution_count": 6,
   "metadata": {},
   "outputs": [
    {
     "name": "stdout",
     "output_type": "stream",
     "text": [
      "Let's remove a friend from the list\n"
     ]
    }
   ],
   "source": [
    "now_2 = \"Let's remove a friend from the list\"\n",
    "print(now_2)"
   ]
  },
  {
   "cell_type": "code",
   "execution_count": 7,
   "metadata": {},
   "outputs": [
    {
     "data": {
      "text/plain": [
       "'Max'"
      ]
     },
     "execution_count": 7,
     "metadata": {},
     "output_type": "execute_result"
    }
   ],
   "source": [
    "my_friends.pop()#pop() function removes the last element in the list.\n",
    "#use the remove() function or the delete function "
   ]
  },
  {
   "cell_type": "code",
   "execution_count": 8,
   "metadata": {},
   "outputs": [
    {
     "name": "stdout",
     "output_type": "stream",
     "text": [
      "['Tinashe', 'Kavayi', 'Honest', 'Courage', 'Lhoyd']\n"
     ]
    }
   ],
   "source": [
    "print(my_friends)"
   ]
  },
  {
   "cell_type": "code",
   "execution_count": 9,
   "metadata": {},
   "outputs": [
    {
     "name": "stdout",
     "output_type": "stream",
     "text": [
      "5\n"
     ]
    }
   ],
   "source": [
    "#Check the length of the list\n",
    "print(len(my_friends))#There are 5 elements in the list"
   ]
  },
  {
   "cell_type": "markdown",
   "metadata": {},
   "source": [
    "Exercise: create a list that contains marks of students. Output the last element in the list. \n",
    "Find the length of the elements. Calculate the average value. Create a variable that stores the average value."
   ]
  },
  {
   "cell_type": "code",
   "execution_count": null,
   "metadata": {},
   "outputs": [],
   "source": []
  }
 ],
 "metadata": {
  "kernelspec": {
   "display_name": "Python 3",
   "language": "python",
   "name": "python3"
  },
  "language_info": {
   "codemirror_mode": {
    "name": "ipython",
    "version": 3
   },
   "file_extension": ".py",
   "mimetype": "text/x-python",
   "name": "python",
   "nbconvert_exporter": "python",
   "pygments_lexer": "ipython3",
   "version": "3.7.3"
  }
 },
 "nbformat": 4,
 "nbformat_minor": 2
}

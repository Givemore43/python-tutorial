{
 "cells": [
  {
   "cell_type": "code",
   "execution_count": 1,
   "metadata": {},
   "outputs": [],
   "source": [
    "import os"
   ]
  },
  {
   "cell_type": "code",
   "execution_count": 1,
   "metadata": {},
   "outputs": [
    {
     "name": "stdout",
     "output_type": "stream",
     "text": [
      "1. Shutdown Computer\n",
      "2. Restart Computer\n",
      "3. Exit\n",
      "\n",
      "Enter your choice: 3\n"
     ]
    }
   ],
   "source": [
    "print(\"1. Shutdown Computer\");\n",
    "print(\"2. Restart Computer\");\n",
    "print(\"3. Exit\");\n",
    "choice = int(input(\"\\nEnter your choice: \"));\n",
    "if(choice>=1 and choice<=2):\n",
    "    if choice == 1:\n",
    "        os.system(\"shutdown /s /t 1\");\n",
    "    else:\n",
    "        os.system(\"shutdown /r /t 1\");\n",
    "else:\n",
    "    exit()"
   ]
  },
  {
   "cell_type": "code",
   "execution_count": 1,
   "metadata": {},
   "outputs": [
    {
     "name": "stdout",
     "output_type": "stream",
     "text": [
      "Enter 'y' for exit.\n",
      "y\n"
     ]
    }
   ],
   "source": [
    "print(\"Enter 'y' for exit.\");\n",
    "val = input();\n",
    "if val == 'y':\n",
    "    exit();\n",
    "else:\n",
    "    print(\"Welcome to Python Tutorial with GCODE!\");"
   ]
  },
  {
   "cell_type": "code",
   "execution_count": 1,
   "metadata": {},
   "outputs": [
    {
     "name": "stdout",
     "output_type": "stream",
     "text": [
      "Enter '0' for exit.\n",
      "Guess a Number: 5\n",
      "Opps..!!\n",
      "\n"
     ]
    }
   ],
   "source": [
    "print(\"Enter '0' for exit.\");\n",
    "val = int(input(\"Guess a Number: \"));\n",
    "if val == 0:\n",
    "    exit();\n",
    "elif(val>10 and val<100):\n",
    "    print(\"What a guess..!!\\n\");\n",
    "else:\n",
    "    print(\"Opps..!!\\n\");"
   ]
  },
  {
   "cell_type": "code",
   "execution_count": 2,
   "metadata": {},
   "outputs": [
    {
     "name": "stdout",
     "output_type": "stream",
     "text": [
      "Enter 'x' for exit.\n",
      "Are you a Robot ? yes\n",
      "Sorry!, you can not proceed.\n",
      "\n"
     ]
    }
   ],
   "source": [
    "print(\"Enter 'x' for exit.\");\n",
    "check = input(\"Are you a Robot ? \");\n",
    "if check == 'x':\n",
    "    exit();\n",
    "elif(check == 'yes'):\n",
    "    print(\"Sorry!, you can not proceed.\\n\");\n",
    "else:\n",
    "    print(\"Congrats!, you can proceed.\\n\");"
   ]
  },
  {
   "cell_type": "markdown",
   "metadata": {},
   "source": [
    "## Simple Calculator"
   ]
  },
  {
   "cell_type": "code",
   "execution_count": 4,
   "metadata": {},
   "outputs": [
    {
     "name": "stdout",
     "output_type": "stream",
     "text": [
      "1. Addition\n",
      "2. Subtraction\n",
      "3. Multiplication\n",
      "4. Division\n",
      "5. Exit\n",
      "Enter your choice: 3\n",
      "Enter two numbers: \n",
      "2\n",
      "2\n",
      "Result =  4\n"
     ]
    }
   ],
   "source": [
    "print(\"1. Addition\");\n",
    "print(\"2. Subtraction\");\n",
    "print(\"3. Multiplication\");\n",
    "print(\"4. Division\");\n",
    "print(\"5. Exit\");\n",
    "choice = int(input(\"Enter your choice: \"));\n",
    "if (choice>=1 and choice<=4):\n",
    "    print(\"Enter two numbers: \");\n",
    "    num1 = int(input());\n",
    "    num2 = int(input());\n",
    "    if choice == 1:\n",
    "        res = num1 + num2;\n",
    "        print(\"Result = \", res);\n",
    "    elif choice == 2:\n",
    "        res = num1 - num2;\n",
    "        print(\"Result = \", res);\n",
    "    elif choice == 3:\n",
    "        res = num1 * num2;\n",
    "        print(\"Result = \", res);\n",
    "    else:\n",
    "        res = num1 / num2;\n",
    "        print(\"Result = \", res);\n",
    "elif choice == 5:\n",
    "    exit();\n",
    "else:\n",
    "    print(\"Wrong input..!!\");"
   ]
  },
  {
   "cell_type": "markdown",
   "metadata": {},
   "source": [
    "## Calculating grade of student"
   ]
  },
  {
   "cell_type": "code",
   "execution_count": 6,
   "metadata": {},
   "outputs": [
    {
     "name": "stdout",
     "output_type": "stream",
     "text": [
      "Enter 'x' for exit.\n",
      "Enter marks obtained in 5 subjects: \n",
      "60\n",
      "72\n",
      "54\n",
      "80\n",
      "94\n",
      "Your Grade is B+\n"
     ]
    }
   ],
   "source": [
    "print(\"Enter 'x' for exit.\");\n",
    "print(\"Enter marks obtained in 5 subjects: \");\n",
    "mark1 = input();\n",
    "if mark1 == 'x':\n",
    "    exit();\n",
    "else:\n",
    "    mark1 = int(mark1);\n",
    "    mark2 = int(input());\n",
    "    mark3 = int(input());\n",
    "    mark4 = int(input());\n",
    "    mark5 = int(input());\n",
    "    sum = mark1 + mark2 + mark3 + mark4 + mark5;\n",
    "    average = sum/5;\n",
    "    if(average>=91 and average<=100):\n",
    "        print(\"Your Grade is A+\");\n",
    "    elif(average>=81 and average<=90):\n",
    "        print(\"Your Grade is A\");\n",
    "    elif(average>=71 and average<=80):\n",
    "        print(\"Your Grade is B+\");\n",
    "    elif(average>=61 and average<=70):\n",
    "        print(\"Your Grade is B\");\n",
    "    elif(average>=51 and average<=60):\n",
    "        print(\"Your Grade is C+\");\n",
    "    elif(average>=41 and average<=50):\n",
    "        print(\"Your Grade is C\");\n",
    "    elif(average>=0 and average<=40):\n",
    "        print(\"Your Grade is F\");\n",
    "    else:\n",
    "        print(\"Strange Grade..!!\");"
   ]
  },
  {
   "cell_type": "markdown",
   "metadata": {},
   "source": [
    "## Multiplication Table"
   ]
  },
  {
   "cell_type": "code",
   "execution_count": 7,
   "metadata": {},
   "outputs": [
    {
     "name": "stdout",
     "output_type": "stream",
     "text": [
      "Enter 'x' for exit.\n",
      "Enter a number: 5\n",
      "5 * 1 = 5\n",
      "5 * 2 = 10\n",
      "5 * 3 = 15\n",
      "5 * 4 = 20\n",
      "5 * 5 = 25\n",
      "5 * 6 = 30\n",
      "5 * 7 = 35\n",
      "5 * 8 = 40\n",
      "5 * 9 = 45\n",
      "5 * 10 = 50\n"
     ]
    }
   ],
   "source": [
    "print(\"Enter 'x' for exit.\");\n",
    "num = input(\"Enter a number: \");\n",
    "if num == 'x':\n",
    "    exit();\n",
    "else:\n",
    "    number = int(num);\n",
    "    for i in range(1, 11):\n",
    "        print(number, \"*\", i, \"=\", number*i);"
   ]
  },
  {
   "cell_type": "markdown",
   "metadata": {},
   "source": [
    "## Find square root of a number"
   ]
  },
  {
   "cell_type": "code",
   "execution_count": 8,
   "metadata": {},
   "outputs": [
    {
     "name": "stdout",
     "output_type": "stream",
     "text": [
      "Enter 'x' for exit.\n",
      "Enter a number: 25\n",
      "Square Root of 25.00 is 5.00\n"
     ]
    }
   ],
   "source": [
    "print(\"Enter 'x' for exit.\");\n",
    "num = input(\"Enter a number: \");\n",
    "if num == 'x':\n",
    "    exit();\n",
    "else:\n",
    "    number = float(num);\n",
    "    number_sqrt = number ** 0.5;\n",
    "    print(\"Square Root of %0.2f is %0.2f\" %(number, number_sqrt));"
   ]
  },
  {
   "cell_type": "markdown",
   "metadata": {},
   "source": [
    "## Quandratic Equation"
   ]
  },
  {
   "cell_type": "code",
   "execution_count": 9,
   "metadata": {},
   "outputs": [
    {
     "name": "stdout",
     "output_type": "stream",
     "text": [
      "Enter 'x' for exit.\n",
      "Enter value of a: 2\n",
      "Enter value of b: 4\n",
      "Enter value of c: 3\n",
      "The solutions = (-1-0.7071067811865476j) and (-1+0.7071067811865476j)\n"
     ]
    }
   ],
   "source": [
    "import cmath;\n",
    "print(\"Enter 'x' for exit.\");\n",
    "num1 = input(\"Enter value of a: \");\n",
    "if num1 == 'x':\n",
    "    exit();\n",
    "else:\n",
    "    num2 = input(\"Enter value of b: \");\n",
    "    num3 = input(\"Enter value of c: \");\n",
    "    number1 = float(num1);\n",
    "    number2 = float(num2);\n",
    "    number3 = float(num3);\n",
    "    d = (number2**2) - (4*number1*number3);\n",
    "    r1 = (-number2-cmath.sqrt(d))/(2*number1);\n",
    "    r2 = (-number2+cmath.sqrt(d))/(2*number1);\n",
    "    print(\"The solutions = {0} and {1}\" .format(r1,r2));"
   ]
  },
  {
   "cell_type": "markdown",
   "metadata": {},
   "source": [
    "## HCF & LCM"
   ]
  },
  {
   "cell_type": "code",
   "execution_count": 10,
   "metadata": {},
   "outputs": [
    {
     "name": "stdout",
     "output_type": "stream",
     "text": [
      "Enter 'x' for exit.\n",
      "Enter two numbers to find HCF and LCM: \n",
      "899\n",
      "45\n",
      "HCF = 1\n",
      "LCM = 40455.0\n"
     ]
    }
   ],
   "source": [
    "print(\"Enter 'x' for exit.\");\n",
    "print(\"Enter two numbers to find HCF and LCM: \");\n",
    "num1 = input();\n",
    "if num1 == 'x':\n",
    "    exit();\n",
    "else:\n",
    "    num2 = input();\n",
    "    number1 = int(num1);\n",
    "    number2 = int(num2);\n",
    "    temp1 = number1;\n",
    "    temp2 = number2;\n",
    "    while temp2 != 0:\n",
    "        t = temp2;\n",
    "        temp2 = temp1%temp2;\n",
    "        temp1 = t;\n",
    "    hcf = temp1;\n",
    "    lcm = (number1*number2)/hcf;\n",
    "    print(\"HCF =\",hcf);\n",
    "    print(\"LCM =\",lcm);"
   ]
  },
  {
   "cell_type": "markdown",
   "metadata": {},
   "source": [
    "## Area of a triangle"
   ]
  },
  {
   "cell_type": "code",
   "execution_count": 11,
   "metadata": {},
   "outputs": [
    {
     "name": "stdout",
     "output_type": "stream",
     "text": [
      "Enter 'x' for exit.\n",
      "Enter length of first side: 6\n",
      "Enter length of second side: 8\n",
      "Enter length of third side: 10\n",
      "\n",
      "Area of Triangle = 24.00\n"
     ]
    }
   ],
   "source": [
    "print(\"Enter 'x' for exit.\");\n",
    "side1 = input(\"Enter length of first side: \");\n",
    "if side1 == 'x':\n",
    "    exit();\n",
    "else:\n",
    "    side2 = input(\"Enter length of second side: \");\n",
    "    side3 = input(\"Enter length of third side: \");\n",
    "    a = float(side1);\n",
    "    b = float(side2);\n",
    "    c = float(side3);\n",
    "    s = (a + b + c)/2;\n",
    "    area = (s*(s-a)*(s-b)*(s-c)) ** 0.5;\n",
    "    print(\"\\nArea of Triangle = %0.2f\" %area);"
   ]
  },
  {
   "cell_type": "markdown",
   "metadata": {},
   "source": [
    "## Convert Kilometres to miles"
   ]
  },
  {
   "cell_type": "code",
   "execution_count": 12,
   "metadata": {},
   "outputs": [
    {
     "name": "stdout",
     "output_type": "stream",
     "text": [
      "Enter 'x' for exit.\n",
      "Enter total kilometres: 2\n",
      "2.00 Kilometres = 1.24 Miles.\n",
      "\n"
     ]
    }
   ],
   "source": [
    "print(\"Enter 'x' for exit.\")\n",
    "km = input(\"Enter total kilometres: \")\n",
    "if km == 'x':\n",
    "    exit();\n",
    "else:\n",
    "    kilometres = float(km)\n",
    "    conversion_factor = 0.621371\n",
    "    miles = kilometres * conversion_factor\n",
    "    print(\"%0.2f Kilometres = %0.2f Miles.\\n\" %(kilometres,miles))"
   ]
  },
  {
   "cell_type": "markdown",
   "metadata": {},
   "source": [
    "## Display Calendar in Python"
   ]
  },
  {
   "cell_type": "code",
   "execution_count": 15,
   "metadata": {},
   "outputs": [
    {
     "name": "stdout",
     "output_type": "stream",
     "text": [
      "------Calendar Program in Python------\n",
      "\n",
      "Enter 'x' for exit.\n",
      "Enter Year: 2020\n",
      "Enter month: 5\n",
      "\n",
      "       May 2020\n",
      "Mo Tu We Th Fr Sa Su\n",
      "             1  2  3\n",
      " 4  5  6  7  8  9 10\n",
      "11 12 13 14 15 16 17\n",
      "18 19 20 21 22 23 24\n",
      "25 26 27 28 29 30 31\n",
      "\n"
     ]
    }
   ],
   "source": [
    "import calendar\n",
    "print(\"------Calendar Program in Python------\\n\");\n",
    "print(\"Enter 'x' for exit.\");\n",
    "y = input(\"Enter Year: \");\n",
    "if y == 'x':\n",
    "    exit();\n",
    "else:\n",
    "    m = input(\"Enter month: \");\n",
    "    yy = int(y);\n",
    "    mm = int(m);\n",
    "    print(\"\\n\",calendar.month(yy,mm));"
   ]
  },
  {
   "cell_type": "markdown",
   "metadata": {},
   "source": [
    "## Print date and time"
   ]
  },
  {
   "cell_type": "code",
   "execution_count": 16,
   "metadata": {},
   "outputs": [
    {
     "name": "stdout",
     "output_type": "stream",
     "text": [
      "Want to print Today's Date and Time ? (y/n): \n",
      "y\n",
      "\n",
      "Today's date and time:\n",
      "2020-05-06 13:12:15.754896\n"
     ]
    }
   ],
   "source": [
    "import datetime;\n",
    "print(\"Want to print Today's Date and Time ? (y/n): \");\n",
    "check = input();\n",
    "if check == 'n':\n",
    "    exit();\n",
    "else:\n",
    "    print(\"\\nToday's date and time:\");\n",
    "    print(datetime.datetime.today());"
   ]
  },
  {
   "cell_type": "markdown",
   "metadata": {},
   "source": [
    "## Sending email "
   ]
  },
  {
   "cell_type": "code",
   "execution_count": null,
   "metadata": {},
   "outputs": [],
   "source": [
    "import smtplib\n",
    "\n",
    "sender = 'from@fromdomain.com'\n",
    "receivers = ['to@todomain.com']\n",
    "\n",
    "message = \"\"\"From: From Person <from@fromdomain.com>\n",
    "To: To Person <to@todomain.com>\n",
    "Subject: SMTP e-mail test\n",
    "\n",
    "This is a test e-mail message.\n",
    "\"\"\"\n",
    "\n",
    "try:\n",
    "   smtpObj = smtplib.SMTP('localhost')\n",
    "   smtpObj.sendmail(sender, receivers, message)         \n",
    "   print(\"Successfully sent email\") \n",
    "except SMTPException:\n",
    "   print(\"Error: unable to send email\")"
   ]
  },
  {
   "cell_type": "code",
   "execution_count": null,
   "metadata": {},
   "outputs": [],
   "source": []
  }
 ],
 "metadata": {
  "kernelspec": {
   "display_name": "Python 3",
   "language": "python",
   "name": "python3"
  },
  "language_info": {
   "codemirror_mode": {
    "name": "ipython",
    "version": 3
   },
   "file_extension": ".py",
   "mimetype": "text/x-python",
   "name": "python",
   "nbconvert_exporter": "python",
   "pygments_lexer": "ipython3",
   "version": "3.7.3"
  }
 },
 "nbformat": 4,
 "nbformat_minor": 2
}
